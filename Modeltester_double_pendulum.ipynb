{
 "cells": [
  {
   "cell_type": "code",
   "execution_count": 45,
   "metadata": {},
   "outputs": [],
   "source": [
    "from scipy.integrate import odeint\n",
    "import time\n",
    "import math\n",
    "import numpy as np\n",
    "from math import *\n",
    "from scipy.optimize import newton\n",
    "from matplotlib import animation, rc\n",
    "from matplotlib import pyplot as plt\n",
    "import pandas as pd\n",
    "import torch\n",
    "import torch.nn as nn\n",
    "from torch.autograd import Variable\n",
    "from sklearn.preprocessing import MinMaxScaler\n",
    "from IPython.display import HTML\n",
    "import import_ipynb\n",
    "import Functions_for_modeltest\n",
    "import warnings\n",
    "import os"
   ]
  },
  {
   "cell_type": "code",
   "execution_count": 46,
   "metadata": {},
   "outputs": [],
   "source": [
    "# print(torch.cuda.is_available())  # Sollte True zurückgeben, wenn CUDA korrekt funktioniert.\n",
    "# print(torch.__version__)  # Zeigt die PyTorch-Version.\n",
    "# print(torch.cuda.get_device_name(0))  # Gibt den Namen der verwendeten GPU zurück."
   ]
  },
  {
   "cell_type": "code",
   "execution_count": 47,
   "metadata": {},
   "outputs": [],
   "source": [
    "# Ignoriere alle UserWarnings\n",
    "warnings.filterwarnings(\"ignore\", category=UserWarning)\n",
    "\n",
    "# Ignoriere Warnungen, die \"X does not have valid feature names\" enthalten\n",
    "warnings.filterwarnings(\"ignore\", message=\"X does not have valid feature names\")\n",
    "\n",
    "# Ignoriere Warnungen aus dem sklearn-Modul\n",
    "warnings.filterwarnings(\"ignore\", module=\"sklearn\")"
   ]
  },
  {
   "cell_type": "code",
   "execution_count": null,
   "metadata": {},
   "outputs": [
    {
     "name": "stdout",
     "output_type": "stream",
     "text": [
      "theta 1 ist -20\n",
      "theta 2 ist 35\n",
      "m1 = 2; l1 = 1.4; m2 = 1; l2 = 1\n",
      "\n",
      "m1 = 2; l1 = 3; m2 = 1; l2 = 1\n",
      "\n",
      "m1 = 2; l1 = 1.4; m2 = 2; l2 = 1\n",
      "\n",
      "m1 = 2; l1 = 3; m2 = 2; l2 = 1\n",
      "\n",
      "m1 = 3; l1 = 1.4; m2 = 1; l2 = 1\n",
      "\n",
      "m1 = 3; l1 = 3; m2 = 1; l2 = 1\n",
      "\n",
      "m1 = 3; l1 = 1.4; m2 = 2; l2 = 1\n",
      "\n",
      "m1 = 3; l1 = 3; m2 = 2; l2 = 1\n",
      "\n"
     ]
    }
   ],
   "source": [
    "theta1 = -20\n",
    "theta2 = 35\n",
    "g = 9.8\n",
    "#this variable sets how strong the angle of the initial conditions should change in case you want differnet initials aswell\n",
    "#if no initial change desired then set to 0\n",
    "#Default value is always 1 to implement the condition you set by theta1 and theta2\n",
    "# amount_of_different_inits = 1\n",
    "# change_of_angle = 0\n",
    "# m1_params = [2, 3]\n",
    "# m2_params = [1, 2]\n",
    "# l1_params = [1.4, 3]\n",
    "# l2_params = [1]\n",
    "\n",
    "#Test combination 2\n",
    "# m1_params = [1, 2]\n",
    "# m2_params = [2, 3]\n",
    "# l1_params = [1]\n",
    "# l2_params = [1.4, 3]\n",
    "\n",
    "amount_of_different_inits = 1\n",
    "change_of_angle = 0\n",
    "# amount_of_different_inits = 7\n",
    "# change_of_angle = 5\n",
    "m1_params = [2]\n",
    "m2_params = [1]\n",
    "l1_params = [1.4]\n",
    "l2_params = [1]\n",
    "\n",
    "simulation_sets = Functions_for_modeltest.multi_simulations(theta1, theta2, change_of_angle, amount_of_different_inits, m1_params, m2_params, l1_params, l2_params, g)"
   ]
  },
  {
   "cell_type": "code",
   "execution_count": 49,
   "metadata": {},
   "outputs": [
    {
     "name": "stdout",
     "output_type": "stream",
     "text": [
      "8\n",
      "m1 = 2.0; l1 = 1.4; m2 = 1.0; l2 = 1.0; dt = 0.033288948069241014\n",
      "\n",
      "m1 = 2.0; l1 = 3.0; m2 = 1.0; l2 = 1.0; dt = 0.033288948069241014\n",
      "\n",
      "m1 = 2.0; l1 = 1.4; m2 = 2.0; l2 = 1.0; dt = 0.033288948069241014\n",
      "\n",
      "m1 = 2.0; l1 = 3.0; m2 = 2.0; l2 = 1.0; dt = 0.033288948069241014\n",
      "\n",
      "m1 = 3.0; l1 = 1.4; m2 = 1.0; l2 = 1.0; dt = 0.033288948069241014\n",
      "\n",
      "m1 = 3.0; l1 = 3.0; m2 = 1.0; l2 = 1.0; dt = 0.033288948069241014\n",
      "\n",
      "m1 = 3.0; l1 = 1.4; m2 = 2.0; l2 = 1.0; dt = 0.033288948069241014\n",
      "\n",
      "m1 = 3.0; l1 = 3.0; m2 = 2.0; l2 = 1.0; dt = 0.033288948069241014\n",
      "\n",
      "tensor([[-0.4095,  0.8948,  0.1542, -0.7986,  2.0000,  1.0000,  1.4000,  1.0000,\n",
      "          0.0333]])\n"
     ]
    }
   ],
   "source": [
    "print(len(simulation_sets))\n",
    "scaler = MinMaxScaler(feature_range=(-1, 1))\n",
    "train_datasets, test_datasets = Functions_for_modeltest.data_splitter_and_scaler(scaler, simulation_sets, test_size = 0.2)\n",
    "\n",
    "#1. Accesses the simulation with the params\n",
    "#2. chooses the Batches\n",
    "#3. Acesses the batches and you can choose between 1 (targed_batch) and 0 (training_batch)\n",
    "print(train_datasets[0][0][1])"
   ]
  },
  {
   "cell_type": "code",
   "execution_count": 50,
   "metadata": {},
   "outputs": [],
   "source": [
    "class MyLSTM(nn.Module):\n",
    "    def __init__(self, input_size=4, hidden_size=100, num_layers=1):\n",
    "\n",
    "        super().__init__()\n",
    "        self.lstm = nn.LSTM(input_size, hidden_size, num_layers=num_layers)\n",
    "        self.linear = nn.Linear(hidden_size, input_size)\n",
    "        self.c_h = (\n",
    "            torch.zeros(num_layers, 1, hidden_size),\n",
    "            torch.zeros(num_layers, 1, hidden_size)\n",
    "        )\n",
    "\n",
    "    def forward(self, x):\n",
    "        h, self.c_h = self.lstm(x.view(len(x), 1, -1), self.c_h)\n",
    "        predictions = self.linear(h.view(len(x), -1))\n",
    "        return predictions[-1]\n",
    "\n",
    "    def freeze_layers(self, model, num_layers_to_freeze):\n",
    "        layer_idx = 0\n",
    "        for name, param in model.named_parameters():\n",
    "            if \"lstm\" in name:\n",
    "                if layer_idx < num_layers_to_freeze:\n",
    "                    param.requires_grad = False\n",
    "                else:\n",
    "                    param.requires_grad = True\n",
    "                layer_idx += 1"
   ]
  },
  {
   "cell_type": "code",
   "execution_count": 51,
   "metadata": {},
   "outputs": [],
   "source": [
    "test1_initials = r'D:\\Double Pendulum\\Parameterstudy\\Test1_initials'\n",
    "test2_initials = r'D:\\Double Pendulum\\Parameterstudy\\Test2_initials'\n",
    "test1_params = r'D:\\Double Pendulum\\Parameterstudy\\Test1_params'\n",
    "test2_params = r'D:\\Double Pendulum\\Parameterstudy\\Test2_params'\n",
    "\n",
    "test_list_initials = [test1_initials, test2_initials]\n",
    "test_list_params = [test1_params, test2_params]"
   ]
  },
  {
   "cell_type": "code",
   "execution_count": 52,
   "metadata": {},
   "outputs": [],
   "source": [
    "#######################################################################################################################################################\n",
    "## Now all the filepaths to the ML-Models / PINNs\n",
    "multi_inits_model_paths = r'D:\\Double Pendulum\\Parameterstudy'\n",
    "\n",
    "Model_pathlist = [multi_inits_model_paths]\n",
    "#######################################################################################################################################################"
   ]
  },
  {
   "cell_type": "code",
   "execution_count": 53,
   "metadata": {},
   "outputs": [],
   "source": [
    "Lagrange_3_3000x1_Anfangsbedingung = 'Lagrange_3_3000x1_Anfangsbedingung'\n",
    "Energieerhaltung_3_3000x1_Anfangsbedingung = 'Energieerhaltung_3_3000x1_Anfangsbedingung'\n",
    "Lagrange_7_1000x7_2000x1_Anfangsbedingung = 'Lagrange_7_1000x7_2000x1_Anfangsbedingung'\n",
    "Energieerhaltung_7_1000x7_2000x1_Anfangsbedingung = 'Energieerhaltung_7_1000x7_2000x1_Anfangsbedingung'\n",
    "Lagrange_7_1000x7_Anfangsbedingung = 'Lagrange_7_1000x7_Anfangsbedingung'\n",
    "Energieerhaltung_7_1000x7_Anfangsbedingung = 'Energieerhaltung_7_1000x7_Anfangsbedingung'\n",
    "Lagrange_3_3000x1_Modellparameter = 'Lagrange_3_3000x1_Modellparameter'\n",
    "Energieerhaltung_3_3000x1_Modellparameter = 'Energieerhaltung_3_3000x1_Modellparameter'\n",
    "Lagrange_8_700x8_6000x1_Modellparameter = 'Lagrange_8_700x8_6000x1_Modellparameter'\n",
    "Energieerhaltung_8_700x8_6000x1_Modellparameter = 'Energieerhaltung_8_700x8_6000x1_Modellparameter'\n",
    "Lagrange_8_700x8_Modellparameter = 'Lagrange_8_700x8_Modellparameter'\n",
    "Energieerhaltung_8_700x8_Modellparameter = 'Energieerhaltung_8_700x8_Modellparameter'"
   ]
  },
  {
   "cell_type": "code",
   "execution_count": 54,
   "metadata": {},
   "outputs": [],
   "source": [
    "Model_list_sorted = [[[Lagrange_3_3000x1_Anfangsbedingung, 3], [Energieerhaltung_3_3000x1_Anfangsbedingung, 3], [Lagrange_7_1000x7_2000x1_Anfangsbedingung, 7], [Energieerhaltung_7_1000x7_2000x1_Anfangsbedingung, 7], [Lagrange_7_1000x7_Anfangsbedingung, 7], [Energieerhaltung_7_1000x7_Anfangsbedingung, 7],\n",
    "          [Lagrange_3_3000x1_Modellparameter, 3], [Energieerhaltung_3_3000x1_Modellparameter, 3], [Lagrange_8_700x8_6000x1_Modellparameter, 8], [Energieerhaltung_8_700x8_6000x1_Modellparameter, 8], [Lagrange_8_700x8_Modellparameter, 8], [Energieerhaltung_8_700x8_Modellparameter, 8]]]\n",
    "\n",
    "Model_names = [['Lagrange_3_3000x1_Anfangsbedingung', 'Energieerhaltung_3_3000x1_Anfangsbedingung', 'Lagrange_7_1000x7_2000x1_Anfangsbedingung', 'Energieerhaltung_7_1000x7_2000x1_Anfangsbedingung', 'Lagrange_7_1000x7_Anfangsbedingung', 'Energieerhaltung_7_1000x7_Anfangsbedingung'],\n",
    "               ['Lagrange_3_3000x1_Modellparameter', 'Energieerhaltung_3_3000x1_Modellparameter', 'Lagrange_8_700x8_6000x1_Modellparameter', 'Energieerhaltung_8_700x8_6000x1_Modellparameter', 'Lagrange_8_700x8_Modellparameter', 'Energieerhaltung_8_700x8_Modellparameter']]\n"
   ]
  },
  {
   "cell_type": "code",
   "execution_count": null,
   "metadata": {},
   "outputs": [],
   "source": [
    "filepath_excel = test1_params\n",
    "for i in range(len(Model_pathlist)):\n",
    "    filepath_model = Model_pathlist[i]\n",
    "    for model in Model_list_sorted[i]:\n",
    "        filename_model = model[0]\n",
    "        model_layers = model[1]\n",
    "        full_path_model = os.path.join(filepath_model, filename_model)\n",
    "        print(model_layers)\n",
    "        print(full_path_model)\n",
    "        model = MyLSTM(input_size=4, hidden_size=100, num_layers=model_layers)\n",
    "        model.load_state_dict(torch.load(full_path_model, map_location=torch.device('cpu')))\n",
    "            \n",
    "        for j in range(len(test_datasets)):\n",
    "            testcycle_filename_model = f'test_nr_{j+1}_{filename_model}'\n",
    "            actual_predictions = Functions_for_modeltest.OneStep(model, model_layers, test_datasets[j], testcycle_filename_model, filepath_excel, steps=100, g=9.81)"
   ]
  }
 ],
 "metadata": {
  "kernelspec": {
   "display_name": "Python 3",
   "language": "python",
   "name": "python3"
  },
  "language_info": {
   "codemirror_mode": {
    "name": "ipython",
    "version": 3
   },
   "file_extension": ".py",
   "mimetype": "text/x-python",
   "name": "python",
   "nbconvert_exporter": "python",
   "pygments_lexer": "ipython3",
   "version": "3.10.11"
  }
 },
 "nbformat": 4,
 "nbformat_minor": 2
}
